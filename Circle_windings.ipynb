{
 "cells": [
  {
   "cell_type": "markdown",
   "metadata": {
    "deletable": true,
    "editable": true
   },
   "source": [
    "# Circle Winding bias calculation for country\n",
    "## Data from: https://github.com/googlecreativelab/quickdraw-dataset (Google QuickDraw!)\n",
    "### Get the circle.ndjson file from: https://console.cloud.google.com/storage/browser/quickdraw_dataset/full/raw, and save it in the same path as this notebook\n",
    "## Based on: https://qz.com/994486\n",
    "## Winding calculation: http://blog.element84.com/polygon-winding.html\n",
    "\n",
    "#### Point of caution: the coordinates in the data are in pixel coordinates (left handed coordinate system with (0,0) on top left)"
   ]
  },
  {
   "cell_type": "code",
   "execution_count": 12,
   "metadata": {
    "collapsed": false,
    "deletable": true,
    "editable": true
   },
   "outputs": [
    {
     "name": "stdout",
     "output_type": "stream",
     "text": [
      "Populating the interactive namespace from numpy and matplotlib\n"
     ]
    }
   ],
   "source": [
    "import numpy as np\n",
    "import jsonlines\n",
    "%pylab inline\n",
    "%matplotlib inline"
   ]
  },
  {
   "cell_type": "code",
   "execution_count": 14,
   "metadata": {
    "collapsed": false,
    "deletable": true,
    "editable": true,
    "scrolled": true
   },
   "outputs": [
    {
     "name": "stdout",
     "output_type": "stream",
     "text": [
      "943 121 816\n"
     ]
    }
   ],
   "source": [
    "count = 0\n",
    "count_cl = 0 # Clockwise winding count\n",
    "count_ccl = 0 # Clockwise winding count\n",
    "with jsonlines.open('circle.ndjson') as reader:\n",
    "    for obj in reader:\n",
    "        if obj['countrycode'] == 'IN': # Insert country code - https://www.wikiwand.com/en/ISO_3166-1_alpha-2\n",
    "            count = count + 1\n",
    "            abc = obj['drawing'][0]\n",
    "            sum = 0\n",
    "            for i in range(np.shape(abc)[1]-1):\n",
    "                sum = sum - (abc[0][i+1]-abc[0][i])*(abc[1][i+1]+abc[1][i]) # negative sign because of change in handedness\n",
    "            if sum > 0:\n",
    "                count_cl = count_cl + 1\n",
    "            elif sum < 0:\n",
    "                count_ccl = count_ccl + 1\n",
    "            #if count == 6: # If you want to visualise a particular drawing\n",
    "            #    break\n",
    "print count, count_cl, count_ccl"
   ]
  },
  {
   "cell_type": "code",
   "execution_count": 15,
   "metadata": {
    "collapsed": false,
    "deletable": true,
    "editable": true
   },
   "outputs": [
    {
     "name": "stdout",
     "output_type": "stream",
     "text": [
      "213.203994751 138.74899292\n",
      "-22799.1674846\n"
     ]
    },
    {
     "data": {
      "text/plain": [
       "[<matplotlib.lines.Line2D at 0x10bb74910>]"
      ]
     },
     "execution_count": 15,
     "metadata": {},
     "output_type": "execute_result"
    },
    {
     "data": {
      "image/png": "[encoded data removed]",
      "text/plain": [
       "<matplotlib.figure.Figure at 0x10b9a0690>"
      ]
     },
     "metadata": {},
     "output_type": "display_data"
    }
   ],
   "source": [
    "print abc[0][0], abc[1][0]\n",
    "print sum\n",
    "plot(abc[0][0:50],abc[1][0:50]) # in equivalent right handed coordinate system: so reverse winding"
   ]
  },
  {
   "cell_type": "code",
   "execution_count": 16,
   "metadata": {
    "collapsed": false,
    "deletable": true,
    "editable": true
   },
   "outputs": [
    {
     "data": {
      "text/plain": [
       "0.6362672322375418"
      ]
     },
     "execution_count": 16,
     "metadata": {},
     "output_type": "execute_result"
    }
   ],
   "source": [
    "(1 - (count_cl+count_ccl)*1./count*1.)*100"
   ]
  },
  {
   "cell_type": "code",
   "execution_count": 17,
   "metadata": {
    "collapsed": false,
    "deletable": true,
    "editable": true
   },
   "outputs": [
    {
     "data": {
      "text/plain": [
       "12.831389183457052"
      ]
     },
     "execution_count": 17,
     "metadata": {},
     "output_type": "execute_result"
    }
   ],
   "source": [
    "count_cl*100./count"
   ]
  },
  {
   "cell_type": "code",
   "execution_count": 18,
   "metadata": {
    "collapsed": false,
    "deletable": true,
    "editable": true
   },
   "outputs": [
    {
     "data": {
      "text/plain": [
       "86.53234358430541"
      ]
     },
     "execution_count": 18,
     "metadata": {},
     "output_type": "execute_result"
    }
   ],
   "source": [
    "count_ccl*100./count"
   ]
  },
  {
   "cell_type": "code",
   "execution_count": 19,
   "metadata": {
    "collapsed": false,
    "deletable": true,
    "editable": true
   },
   "outputs": [
    {
     "data": {
      "text/plain": [
       "943"
      ]
     },
     "execution_count": 19,
     "metadata": {},
     "output_type": "execute_result"
    }
   ],
   "source": [
    "count"
   ]
  }
 ],
 "metadata": {
  "kernelspec": {
   "display_name": "Python 2",
   "language": "python",
   "name": "python2"
  },
  "language_info": {
   "codemirror_mode": {
    "name": "ipython",
    "version": 2
   },
   "file_extension": ".py",
   "mimetype": "text/x-python",
   "name": "python",
   "nbconvert_exporter": "python",
   "pygments_lexer": "ipython2",
   "version": "2.7.13"
  }
 },
 "nbformat": 4,
 "nbformat_minor": 2
}
