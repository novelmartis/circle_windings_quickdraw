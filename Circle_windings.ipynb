{
 "cells": [
  {
   "cell_type": "markdown",
   "metadata": {
    "deletable": true,
    "editable": true
   },
   "source": [
    "# Circle Winding bias calculation for country\n",
    "## Data from: https://github.com/googlecreativelab/quickdraw-dataset (Google QuickDraw!)\n",
    "### Get the circle.ndjson file from: https://console.cloud.google.com/storage/browser/quickdraw_dataset/full/raw, and save it in the same path as this notebook\n",
    "## Based on: https://qz.com/994486\n",
    "## Winding calculation: http://blog.element84.com/polygon-winding.html\n",
    "## Install jsonlines: https://jsonlines.readthedocs.io/en/latest/"
   ]
  },
  {
   "cell_type": "code",
   "execution_count": 2,
   "metadata": {
    "collapsed": false,
    "deletable": true,
    "editable": true
   },
   "outputs": [],
   "source": [
    "import numpy as np\n",
    "import jsonlines\n",
    "%matplotlib inline"
   ]
  },
  {
   "cell_type": "code",
   "execution_count": 164,
   "metadata": {
    "collapsed": false,
    "deletable": true,
    "editable": true,
    "scrolled": true
   },
   "outputs": [
    {
     "name": "stdout",
     "output_type": "stream",
     "text": [
      "8829 7467 1298\n"
     ]
    }
   ],
   "source": [
    "count = 0\n",
    "count_cl = 0 # Clockwise winding count\n",
    "count_ccl = 0 # Clockwise winding count\n",
    "with jsonlines.open('circle.ndjson') as reader:\n",
    "    for obj in reader:\n",
    "        if obj['countrycode'] == 'GB': # Insert country code - https://www.wikiwand.com/en/ISO_3166-1_alpha-2\n",
    "            count = count + 1\n",
    "            abc = obj['drawing'][0]\n",
    "            sum = 0\n",
    "            for i in range(np.shape(abc)[1]-1):\n",
    "                sum = sum + (abc[0][i+1]-abc[0][i])*(abc[1][i+1]+abc[1][i])\n",
    "            if sum > 0:\n",
    "                count_cl = count_cl + 1\n",
    "            elif sum < 0:\n",
    "                count_ccl = count_ccl + 1\n",
    "            #if count == 6: # If you want to visualise a particular drawing\n",
    "            #    break\n",
    "print count, count_cl, count_ccl"
   ]
  },
  {
   "cell_type": "code",
   "execution_count": 165,
   "metadata": {
    "collapsed": false,
    "deletable": true,
    "editable": true
   },
   "outputs": [
    {
     "name": "stdout",
     "output_type": "stream",
     "text": [
      "519.289978027 117.189994812\n",
      "32556.4130812\n"
     ]
    },
    {
     "data": {
      "text/plain": [
       "[<matplotlib.lines.Line2D at 0x10c8a5410>]"
      ]
     },
     "execution_count": 165,
     "metadata": {},
     "output_type": "execute_result"
    },
    {
     "data": {
      "image/png": "[encoded data removed]",
      "text/plain": [
       "<matplotlib.figure.Figure at 0x10bfe4f50>"
      ]
     },
     "metadata": {},
     "output_type": "display_data"
    }
   ],
   "source": [
    "print abc[0][0], abc[1][0]\n",
    "print sum\n",
    "plot(abc[0][0:50],abc[1][0:50])"
   ]
  },
  {
   "cell_type": "code",
   "execution_count": 166,
   "metadata": {
    "collapsed": false,
    "deletable": true,
    "editable": true
   },
   "outputs": [
    {
     "data": {
      "text/plain": [
       "0.7248839053120348"
      ]
     },
     "execution_count": 166,
     "metadata": {},
     "output_type": "execute_result"
    }
   ],
   "source": [
    "(1 - (count_cl+count_ccl)*1./count*1.)*100"
   ]
  },
  {
   "cell_type": "code",
   "execution_count": 167,
   "metadata": {
    "collapsed": false,
    "deletable": true,
    "editable": true
   },
   "outputs": [
    {
     "data": {
      "text/plain": [
       "84.57356439007815"
      ]
     },
     "execution_count": 167,
     "metadata": {},
     "output_type": "execute_result"
    }
   ],
   "source": [
    "count_cl*100./count"
   ]
  },
  {
   "cell_type": "code",
   "execution_count": 168,
   "metadata": {
    "collapsed": false,
    "deletable": true,
    "editable": true
   },
   "outputs": [
    {
     "data": {
      "text/plain": [
       "14.701551704609809"
      ]
     },
     "execution_count": 168,
     "metadata": {},
     "output_type": "execute_result"
    }
   ],
   "source": [
    "count_ccl*100./count"
   ]
  },
  {
   "cell_type": "code",
   "execution_count": 169,
   "metadata": {
    "collapsed": false,
    "deletable": true,
    "editable": true
   },
   "outputs": [
    {
     "data": {
      "text/plain": [
       "8829"
      ]
     },
     "execution_count": 169,
     "metadata": {},
     "output_type": "execute_result"
    }
   ],
   "source": [
    "count"
   ]
  },
  {
   "cell_type": "code",
   "execution_count": null,
   "metadata": {
    "collapsed": true,
    "deletable": true,
    "editable": true
   },
   "outputs": [],
   "source": []
  }
 ],
 "metadata": {
  "kernelspec": {
   "display_name": "Python 2",
   "language": "python",
   "name": "python2"
  },
  "language_info": {
   "codemirror_mode": {
    "name": "ipython",
    "version": 2
   },
   "file_extension": ".py",
   "mimetype": "text/x-python",
   "name": "python",
   "nbconvert_exporter": "python",
   "pygments_lexer": "ipython2",
   "version": "2.7.13"
  }
 },
 "nbformat": 4,
 "nbformat_minor": 2
}
